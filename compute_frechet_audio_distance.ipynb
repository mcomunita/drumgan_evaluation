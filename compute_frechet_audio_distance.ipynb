{
 "metadata": {
  "language_info": {
   "codemirror_mode": {
    "name": "ipython",
    "version": 3
   },
   "file_extension": ".py",
   "mimetype": "text/x-python",
   "name": "python",
   "nbconvert_exporter": "python",
   "pygments_lexer": "ipython3",
   "version": "3.8.2"
  },
  "orig_nbformat": 2,
  "kernelspec": {
   "name": "python382jvsc74a57bd0b826e582c4c6950429e4ab08d565c1942dc747a4b972bee2d4ad610561dc5dd8",
   "display_name": "Python 3.8.2 64-bit ('venv_repos': venv)"
  }
 },
 "nbformat": 4,
 "nbformat_minor": 2,
 "cells": [
  {
   "cell_type": "code",
   "execution_count": 1,
   "metadata": {},
   "outputs": [],
   "source": [
    "import subprocess\n",
    "from utils.utils import GPU_is_available\n",
    "from utils.utils import list_files_abs_path, list_files_in_subfolders, mkdir_in_path\n",
    "from datetime import datetime"
   ]
  },
  {
   "cell_type": "code",
   "execution_count": 2,
   "metadata": {},
   "outputs": [],
   "source": [
    "config = {\n",
    "    \"real_samples_path\": \"../_data/footsteps_real\",\n",
    "    \"synth_samples_path\": \"../_data/footsteps_generated_23-04-2021_15h\",\n",
    "    \n",
    "    \"output_path\": \"evaluation\",\n",
    "    \"output_folder\": \"evaluation_metrics\",\n",
    "}"
   ]
  },
  {
   "cell_type": "code",
   "execution_count": 11,
   "metadata": {},
   "outputs": [
    {
     "output_type": "stream",
     "name": "stdout",
     "text": [
      "FAD=4.2374\n"
     ]
    }
   ],
   "source": [
    "if GPU_is_available:\n",
    "    device = 'cuda'\n",
    "else:\n",
    "    device = 'cpu'\n",
    "    \n",
    "real_samples_path = config['real_samples_path']\n",
    "synth_samples_path = config['synth_samples_path']\n",
    "\n",
    "real_files = list_files_in_subfolders(real_samples_path, format='.wav')\n",
    "synth_files = list_files_in_subfolders(synth_samples_path, format='.wav')\n",
    "\n",
    "output_path = mkdir_in_path(config['output_path'], config['output_folder'])\n",
    "output_path = mkdir_in_path(output_path, \"fad\")\n",
    "\n",
    "real_paths_csv = f\"{output_path}/real_audio.csv\"\n",
    "with open(real_paths_csv, \"w\") as f:\n",
    "    for file_path in real_files:\n",
    "        f.write(file_path + '\\n')\n",
    "synth_paths_csv = f\"{output_path}/synth_audio.csv\"\n",
    "with open(synth_paths_csv, \"w\") as f:\n",
    "    for file_path in synth_files:\n",
    "        f.write(file_path + '\\n')\n",
    "\n",
    "fad = float(subprocess.check_output([\"sh\",\n",
    "                        \"shell_scripts/fad.sh\",\n",
    "                        \"--real=\"+real_paths_csv,\n",
    "                        \"--synth=\"+synth_paths_csv,\n",
    "                        \"--output=\"+output_path]).decode()[-10:-1])\n",
    "\n",
    "with open(f\"{output_path}/fad_{len(synth_files)}_{datetime.now().strftime('%d-%m-%y_%H_%M')}.txt\", \"w\") as f:\n",
    "    f.write(str(fad))\n",
    "    f.close()\n",
    "\n",
    "print(\"FAD={0:.4f}\".format(fad))"
   ]
  },
  {
   "cell_type": "code",
   "execution_count": null,
   "metadata": {},
   "outputs": [],
   "source": []
  }
 ]
}