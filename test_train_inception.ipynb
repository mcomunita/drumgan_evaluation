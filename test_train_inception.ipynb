{
 "metadata": {
  "language_info": {
   "codemirror_mode": {
    "name": "ipython",
    "version": 3
   },
   "file_extension": ".py",
   "mimetype": "text/x-python",
   "name": "python",
   "nbconvert_exporter": "python",
   "pygments_lexer": "ipython3",
   "version": "3.8.2"
  },
  "orig_nbformat": 2,
  "kernelspec": {
   "name": "python382jvsc74a57bd0b826e582c4c6950429e4ab08d565c1942dc747a4b972bee2d4ad610561dc5dd8",
   "display_name": "Python 3.8.2 64-bit ('venv_repos': venv)"
  }
 },
 "nbformat": 4,
 "nbformat_minor": 2,
 "cells": [
  {
   "cell_type": "code",
   "execution_count": null,
   "metadata": {},
   "outputs": [],
   "source": [
    "import torch\n",
    "import os\n",
    "import argparse\n",
    "import torch.nn.functional as F\n",
    "import ipdb\n",
    "import numpy as np\n",
    "import logging\n",
    "\n",
    "from torch import nn\n",
    "from data.preprocessing import AudioProcessor\n",
    "from data.audio_transforms import MelScale\n",
    "from data.loaders import get_data_loader\n",
    "from tqdm import tqdm, trange\n",
    "from utils.utils import mkdir_in_path, GPU_is_available\n",
    "from torch.utils.data import DataLoader\n",
    "\n",
    "from os.path import dirname, realpath, join\n",
    "from datetime import datetime\n",
    "from sklearn.metrics import confusion_matrix, classification_report\n",
    "from utils.utils import read_json\n",
    "from datetime import datetime\n",
    "from evaluation.inception_network import SpectrogramInception3\n",
    "from pprint import pprint"
   ]
  },
  {
   "cell_type": "code",
   "execution_count": null,
   "metadata": {},
   "outputs": [],
   "source": [
    "name = 'name'\n",
    "path = 'evaluation/inception_models'\n",
    "config = {\n",
    "    \"name\": \"inception train on footsteps\",\n",
    "    \"comments\": \"inception train on footsteps\",\n",
    "    \"output_path\": \"../output_folder\",\n",
    "    \"loader_config\": {\n",
    "        \"dbname\": \"footsteps\",\n",
    "        \"data_path\": \"audio/footsteps/\",\n",
    "        \"criteria\": {},\n",
    "        \"shuffle\": True\n",
    "    },\n",
    "    \"transform_config\": {\n",
    "        \"transform\": \"stft\",\n",
    "        \"fade_out\": True,\n",
    "        \"fft_size\": 1024,\n",
    "        \"win_size\": 1024,\n",
    "        \"n_frames\": 64,\n",
    "        \"hop_size\": 256,\n",
    "        \"log\": False,\n",
    "        \"ifreq\": False,\n",
    "        \"sample_rate\": 16000,\n",
    "        \"audio_length\": 16000\n",
    "    }\n",
    "}\n",
    "batch_size = 1\n",
    "n_epoch = 100"
   ]
  },
  {
   "cell_type": "code",
   "execution_count": null,
   "metadata": {},
   "outputs": [],
   "source": [
    "output_path = mkdir_in_path(path, 'inception_models')\n",
    "output_file = join(output_path, f\"{name}_{datetime.now().strftime('%Y-%m-%d')}.pt\")\n",
    "output_log = join(output_path, f\"{name}_{datetime.now().strftime('%Y-%m-%d')}.log\")\n",
    "logging.basicConfig(filename=output_log, level=logging.INFO)\n",
    "\n",
    "loader_config = config['loader_config']\n",
    "print(\"-- TRAIN INCEPTION MODEL: loader_config --\")\n",
    "print(loader_config)\n",
    "print()\n",
    "\n",
    "transform_config = config['transform_config']\n",
    "print(\"-- TRAIN INCEPTION MODEL: transform_config --\")\n",
    "print(transform_config)\n",
    "print()\n",
    "\n",
    "transform = transform_config['transform']\n",
    "print(\"-- TRAIN INCEPTION MODEL: transform --\")\n",
    "print(transform)\n",
    "print()\n",
    "\n",
    "dbname = loader_config['dbname']\n",
    "print(\"-- TRAIN INCEPTION MODEL: dbname --\")\n",
    "print(dbname)\n",
    "print()\n",
    "\n",
    "loader_module = get_data_loader(dbname)\n",
    "print(\"-- TRAIN INCEPTION MODEL: loader_module --\")\n",
    "print(loader_module)\n",
    "print()"
   ]
  },
  {
   "cell_type": "code",
   "execution_count": null,
   "metadata": {},
   "outputs": [],
   "source": [
    "processor = AudioProcessor(**transform_config)"
   ]
  },
  {
   "cell_type": "code",
   "execution_count": null,
   "metadata": {},
   "outputs": [],
   "source": [
    "loader = loader_module(name=dbname + '_' + transform, preprocessing=processor, **loader_config)"
   ]
  },
  {
   "cell_type": "code",
   "execution_count": null,
   "metadata": {},
   "outputs": [],
   "source": [
    "mel = MelScale(sample_rate=transform_config['sample_rate'],\n",
    "                fft_size=transform_config['fft_size'],\n",
    "                n_mel=transform_config.get('n_mel', 256),\n",
    "                rm_dc=True)"
   ]
  },
  {
   "cell_type": "code",
   "execution_count": null,
   "metadata": {},
   "outputs": [],
   "source": [
    "val_data, val_labels = loader.get_validation_set()\n",
    "val_data = val_data[:, 0:1]"
   ]
  },
  {
   "cell_type": "code",
   "execution_count": null,
   "metadata": {},
   "outputs": [],
   "source": [
    "data_loader = DataLoader(loader,\n",
    "                            batch_size=batch_size,\n",
    "                            shuffle=True,\n",
    "                            num_workers=2)"
   ]
  },
  {
   "cell_type": "code",
   "execution_count": null,
   "metadata": {},
   "outputs": [],
   "source": [
    "print(\"-- TR DATA --\")\n",
    "print(len(data_loader.data))\n",
    "print()\n",
    "print(\"-- VAL DATA --\")\n",
    "print(len(data_loader.val_data))\n",
    "print()\n",
    "print(\"-- NUM CLASSES --\")\n",
    "print(num_classes)\n",
    "print()"
   ]
  },
  {
   "cell_type": "code",
   "execution_count": null,
   "metadata": {},
   "outputs": [],
   "source": [
    "num_classes = len(set(loader.metadata))\n",
    "print(\"-- NUM CLASSES --\")\n",
    "print(num_classes)\n",
    "print()"
   ]
  },
  {
   "cell_type": "code",
   "execution_count": null,
   "metadata": {},
   "outputs": [],
   "source": [
    "device = \"cuda\" if GPU_is_available() else \"cpu\"\n",
    "\n",
    "inception_model = nn.DataParallel(\n",
    "        SpectrogramInception3(num_classes, aux_logits=False))\n",
    "inception_model.to(device)\n",
    "\n",
    "optim = torch.optim.Adam(filter(lambda p: p.requires_grad, inception_model.parameters()),\n",
    "                    betas=[0, 0.99], lr=0.001)\n",
    "\n",
    "criterion = torch.nn.CrossEntropyLoss()"
   ]
  },
  {
   "cell_type": "code",
   "execution_count": null,
   "metadata": {},
   "outputs": [],
   "source": [
    "data_iter = iter(data_loader)\n",
    "input, labels = data_iter.next()"
   ]
  },
  {
   "cell_type": "code",
   "execution_count": null,
   "metadata": {},
   "outputs": [],
   "source": [
    "input.shape"
   ]
  },
  {
   "cell_type": "code",
   "execution_count": null,
   "metadata": {},
   "outputs": [],
   "source": [
    "labels"
   ]
  },
  {
   "cell_type": "code",
   "execution_count": null,
   "metadata": {},
   "outputs": [],
   "source": []
  }
 ]
}