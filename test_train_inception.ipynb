{
 "metadata": {
  "language_info": {
   "codemirror_mode": {
    "name": "ipython",
    "version": 3
   },
   "file_extension": ".py",
   "mimetype": "text/x-python",
   "name": "python",
   "nbconvert_exporter": "python",
   "pygments_lexer": "ipython3",
   "version": "3.8.2"
  },
  "orig_nbformat": 2,
  "kernelspec": {
   "name": "python382jvsc74a57bd0b826e582c4c6950429e4ab08d565c1942dc747a4b972bee2d4ad610561dc5dd8",
   "display_name": "Python 3.8.2 64-bit ('venv_repos': venv)"
  }
 },
 "nbformat": 4,
 "nbformat_minor": 2,
 "cells": [
  {
   "cell_type": "code",
   "execution_count": 1,
   "metadata": {},
   "outputs": [],
   "source": [
    "import torch\n",
    "import os\n",
    "import argparse\n",
    "import torch.nn.functional as F\n",
    "import ipdb\n",
    "import numpy as np\n",
    "import logging\n",
    "\n",
    "from torch import nn\n",
    "from data.preprocessing import AudioProcessor\n",
    "from data.audio_transforms import MelScale\n",
    "from data.loaders import get_data_loader\n",
    "from tqdm import tqdm, trange\n",
    "from utils.utils import mkdir_in_path, GPU_is_available\n",
    "from torch.utils.data import DataLoader\n",
    "\n",
    "from os.path import dirname, realpath, join\n",
    "from datetime import datetime\n",
    "from sklearn.metrics import confusion_matrix, classification_report\n",
    "from utils.utils import read_json\n",
    "from datetime import datetime\n",
    "from evaluation.inception_network import SpectrogramInception3\n",
    "from pprint import pprint"
   ]
  },
  {
   "cell_type": "code",
   "execution_count": 2,
   "metadata": {},
   "outputs": [],
   "source": [
    "name = 'name'\n",
    "path = 'evaluation/inception_models'\n",
    "config = {\n",
    "    \"name\": \"inception train on footsteps\",\n",
    "    \"comments\": \"inception train on footsteps\",\n",
    "    \"output_path\": \"../output_folder\",\n",
    "    \"loader_config\": {\n",
    "        \"dbname\": \"footsteps\",\n",
    "        \"data_path\": \"audio/footsteps/\",\n",
    "        \"criteria\": {},\n",
    "        \"shuffle\": True\n",
    "    },\n",
    "    \"transform_config\": {\n",
    "        \"transform\": \"stft\",\n",
    "        \"fade_out\": True,\n",
    "        \"fft_size\": 1024,\n",
    "        \"win_size\": 1024,\n",
    "        \"n_frames\": 64,\n",
    "        \"hop_size\": 256,\n",
    "        \"log\": False,\n",
    "        \"ifreq\": False,\n",
    "        \"sample_rate\": 16000,\n",
    "        \"audio_length\": 16000\n",
    "    }\n",
    "}\n",
    "batch_size = 1\n",
    "n_epoch = 100"
   ]
  },
  {
   "cell_type": "code",
   "execution_count": 3,
   "metadata": {},
   "outputs": [
    {
     "output_type": "stream",
     "name": "stdout",
     "text": [
      "-- TRAIN INCEPTION MODEL: loader_config --\n{'dbname': 'footsteps', 'data_path': 'audio/footsteps/', 'criteria': {}, 'shuffle': True}\n\n-- TRAIN INCEPTION MODEL: transform_config --\n{'transform': 'stft', 'fade_out': True, 'fft_size': 1024, 'win_size': 1024, 'n_frames': 64, 'hop_size': 256, 'log': False, 'ifreq': False, 'sample_rate': 16000, 'audio_length': 16000}\n\n-- TRAIN INCEPTION MODEL: transform --\nstft\n\n-- TRAIN INCEPTION MODEL: dbname --\nfootsteps\n\n-- TRAIN INCEPTION MODEL: loader_module --\n<class 'data.loaders.footsteps_loader.FootstepsDataLoader'>\n\n"
     ]
    }
   ],
   "source": [
    "output_path = mkdir_in_path(path, 'inception_models')\n",
    "output_file = join(output_path, f\"{name}_{datetime.now().strftime('%Y-%m-%d')}.pt\")\n",
    "output_log = join(output_path, f\"{name}_{datetime.now().strftime('%Y-%m-%d')}.log\")\n",
    "logging.basicConfig(filename=output_log, level=logging.INFO)\n",
    "\n",
    "loader_config = config['loader_config']\n",
    "print(\"-- TRAIN INCEPTION MODEL: loader_config --\")\n",
    "print(loader_config)\n",
    "print()\n",
    "\n",
    "transform_config = config['transform_config']\n",
    "print(\"-- TRAIN INCEPTION MODEL: transform_config --\")\n",
    "print(transform_config)\n",
    "print()\n",
    "\n",
    "transform = transform_config['transform']\n",
    "print(\"-- TRAIN INCEPTION MODEL: transform --\")\n",
    "print(transform)\n",
    "print()\n",
    "\n",
    "dbname = loader_config['dbname']\n",
    "print(\"-- TRAIN INCEPTION MODEL: dbname --\")\n",
    "print(dbname)\n",
    "print()\n",
    "\n",
    "loader_module = get_data_loader(dbname)\n",
    "print(\"-- TRAIN INCEPTION MODEL: loader_module --\")\n",
    "print(loader_module)\n",
    "print()"
   ]
  },
  {
   "cell_type": "code",
   "execution_count": 4,
   "metadata": {},
   "outputs": [
    {
     "output_type": "stream",
     "name": "stdout",
     "text": [
      "-- DATA PROCESSOR: __init__\n\n-- AUDIO PROCESSOR: init_tranform_pipeline\nConfiguring stft transform...\nself.transform:\nstft\n\n"
     ]
    }
   ],
   "source": [
    "processor = AudioProcessor(**transform_config)"
   ]
  },
  {
   "cell_type": "code",
   "execution_count": 5,
   "metadata": {},
   "outputs": [
    {
     "output_type": "stream",
     "name": "stdout",
     "text": [
      "-- DATALOADER: __init__\n\n-- FOOSTEPS DATALOADER: load_data\n\nlen(self.data):\n721\nlen(self.metadata): \n721\n\nDataset audio/footsteps/processed/footsteps_stft/footsteps_stft.pt exists. Reloading...\n-- DATALOADER: load_from_pt_file\n\n"
     ]
    }
   ],
   "source": [
    "loader = loader_module(name=dbname + '_' + transform, preprocessing=processor, **loader_config)"
   ]
  },
  {
   "cell_type": "code",
   "execution_count": 6,
   "metadata": {},
   "outputs": [],
   "source": [
    "mel = MelScale(sample_rate=transform_config['sample_rate'],\n",
    "                fft_size=transform_config['fft_size'],\n",
    "                n_mel=transform_config.get('n_mel', 256),\n",
    "                rm_dc=True)"
   ]
  },
  {
   "cell_type": "code",
   "execution_count": 10,
   "metadata": {},
   "outputs": [
    {
     "output_type": "stream",
     "name": "stdout",
     "text": [
      "-- DATA LOADER: get_validation_set\n"
     ]
    }
   ],
   "source": [
    "val_data, val_labels = loader.get_validation_set()\n",
    "val_data = val_data[:, 0:1]"
   ]
  },
  {
   "cell_type": "code",
   "execution_count": 11,
   "metadata": {},
   "outputs": [],
   "source": [
    "data_loader = DataLoader(loader,\n",
    "                            batch_size=batch_size,\n",
    "                            shuffle=True,\n",
    "                            num_workers=2)"
   ]
  },
  {
   "cell_type": "code",
   "execution_count": 12,
   "metadata": {},
   "outputs": [
    {
     "output_type": "stream",
     "name": "stdout",
     "text": [
      "-- NUM CLASSES --\n6\n\n"
     ]
    }
   ],
   "source": [
    "num_classes = len(set(loader.metadata))\n",
    "print(\"-- NUM CLASSES --\")\n",
    "print(num_classes)\n",
    "print()"
   ]
  },
  {
   "cell_type": "code",
   "execution_count": 13,
   "metadata": {},
   "outputs": [
    {
     "output_type": "stream",
     "name": "stdout",
     "text": [
      "Cuda not available. Running on CPU\n"
     ]
    }
   ],
   "source": [
    "device = \"cuda\" if GPU_is_available() else \"cpu\"\n",
    "\n",
    "inception_model = nn.DataParallel(\n",
    "        SpectrogramInception3(num_classes, aux_logits=False))\n",
    "inception_model.to(device)\n",
    "\n",
    "optim = torch.optim.Adam(filter(lambda p: p.requires_grad, inception_model.parameters()),\n",
    "                    betas=[0, 0.99], lr=0.001)\n",
    "\n",
    "criterion = torch.nn.CrossEntropyLoss()"
   ]
  },
  {
   "cell_type": "code",
   "execution_count": 14,
   "metadata": {},
   "outputs": [],
   "source": [
    "data_iter = iter(data_loader)\n",
    "input, labels = data_iter.next()"
   ]
  },
  {
   "cell_type": "code",
   "execution_count": 15,
   "metadata": {},
   "outputs": [
    {
     "output_type": "execute_result",
     "data": {
      "text/plain": [
       "torch.Size([1, 2, 512, 64])"
      ]
     },
     "metadata": {},
     "execution_count": 15
    }
   ],
   "source": [
    "input.shape"
   ]
  },
  {
   "cell_type": "code",
   "execution_count": 16,
   "metadata": {},
   "outputs": [
    {
     "output_type": "execute_result",
     "data": {
      "text/plain": [
       "tensor([0])"
      ]
     },
     "metadata": {},
     "execution_count": 16
    }
   ],
   "source": [
    "labels"
   ]
  },
  {
   "cell_type": "code",
   "execution_count": null,
   "metadata": {},
   "outputs": [],
   "source": []
  }
 ]
}