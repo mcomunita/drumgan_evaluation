{
 "metadata": {
  "language_info": {
   "codemirror_mode": {
    "name": "ipython",
    "version": 3
   },
   "file_extension": ".py",
   "mimetype": "text/x-python",
   "name": "python",
   "nbconvert_exporter": "python",
   "pygments_lexer": "ipython3",
   "version": "3.8.2"
  },
  "orig_nbformat": 2,
  "kernelspec": {
   "name": "python382jvsc74a57bd0b826e582c4c6950429e4ab08d565c1942dc747a4b972bee2d4ad610561dc5dd8",
   "display_name": "Python 3.8.2 64-bit ('venv_repos': venv)"
  }
 },
 "nbformat": 4,
 "nbformat_minor": 2,
 "cells": [
  {
   "cell_type": "code",
   "execution_count": 1,
   "metadata": {},
   "outputs": [],
   "source": [
    "import torch.nn.functional as F\n",
    "from utils.utils import *\n",
    "from datetime import datetime\n",
    "from evaluation.train_inception_model import SpectrogramInception3\n",
    "from data.preprocessing import AudioProcessor\n",
    "from torch.utils.data import DataLoader\n",
    "from evaluation.metrics.inception_score import InceptionScore\n",
    "from data.audio_transforms import MelScale\n",
    "from data.loaders import get_data_loader"
   ]
  },
  {
   "cell_type": "code",
   "execution_count": 2,
   "metadata": {},
   "outputs": [],
   "source": [
    "config = {\n",
    "    \"model_name\": \"footsteps_inception_model_best_2021-04-29.pt\",\n",
    "    \"comments\": \"inception trained on footsteps dataset\",\n",
    "    \"state_dict_path\": \"evaluation/inception_models/footsteps_inception_model_best_2021-04-29.pt\",\n",
    "    \n",
    "    \"real_samples_path\": \"../_data/footsteps_real\",\n",
    "    \"synth_samples_path\": \"../_data/footsteps_generated_23-04-2021_15h\",\n",
    "    \n",
    "    \"output_path\": \"evaluation\",\n",
    "    \"output_folder\": \"evaluation_metrics\",\n",
    "    \n",
    "    \"batch_size\": 20,\n",
    "\n",
    "    \"real_samples_loader_config\": {\n",
    "        \"dbname\": \"footsteps\",\n",
    "        \"data_path\": \"../_data/footsteps_real/\",\n",
    "        \"criteria\": {},\n",
    "        \"shuffle\": True,\n",
    "        \"tr_val_split\": 1.0\n",
    "    },\n",
    "\n",
    "    \"synth_samples_loader_config\": {\n",
    "        \"dbname\": \"footsteps\",\n",
    "        \"data_path\": \"../_data/footsteps_generated_23-04-2021_15h/\",\n",
    "        \"criteria\": {},\n",
    "        \"shuffle\": True,\n",
    "        \"tr_val_split\": 1.0\n",
    "    },\n",
    "    \n",
    "    \"transform_config\": {\n",
    "        \"transform\": \"stft\",\n",
    "        \"fade_out\": True,\n",
    "        \"fft_size\": 1024,\n",
    "        \"win_size\": 1024,\n",
    "        \"n_frames\": 64,\n",
    "        \"hop_size\": 256,\n",
    "        \"log\": False,\n",
    "        \"ifreq\": False,\n",
    "        \"sample_rate\": 16000,\n",
    "        \"audio_length\": 16000\n",
    "    }\n",
    "}"
   ]
  },
  {
   "cell_type": "code",
   "execution_count": 3,
   "metadata": {},
   "outputs": [],
   "source": [
    "model_name = config['model_name']\n",
    "state_dict_path = config['state_dict_path']\n",
    "output_path = mkdir_in_path(config['output_path'], config['output_folder'])"
   ]
  },
  {
   "cell_type": "code",
   "execution_count": 4,
   "metadata": {},
   "outputs": [
    {
     "output_type": "stream",
     "name": "stdout",
     "text": [
      "Configuring stft transform...\n",
      "Dataset ../_data/footsteps_real/_processed/footsteps_stft/footsteps_stft.pt exists. Reloading...\n",
      "n_real_samples:  720\n",
      "Cuda not available. Running on CPU\n"
     ]
    }
   ],
   "source": [
    "real_samples_loader_config = config['real_samples_loader_config']\n",
    "\n",
    "transform_config = config['transform_config']\n",
    "transform = transform_config['transform']\n",
    "\n",
    "dbname = real_samples_loader_config['dbname']\n",
    "\n",
    "batch_size = config['batch_size']\n",
    "\n",
    "processor = AudioProcessor(**transform_config)\n",
    "\n",
    "loader_module = get_data_loader(dbname)\n",
    "\n",
    "real_samples_loader = loader_module(name=dbname + '_' + transform, preprocessing=processor, **real_samples_loader_config)\n",
    "\n",
    "n_real_samples = len(real_samples_loader)\n",
    "print('n_real_samples: ', n_real_samples)\n",
    "\n",
    "real_samples_data_loader = DataLoader(real_samples_loader,\n",
    "                                        batch_size=batch_size,\n",
    "                                        shuffle=True,\n",
    "                                        num_workers=2)\n",
    "\n",
    "device = 'cuda' if GPU_is_available() else 'cpu'\n",
    "\n",
    "state_dict = torch.load(state_dict_path, map_location=device)\n",
    "inception_footsteps = SpectrogramInception3(state_dict['fc.weight'].shape[0], aux_logits=False)\n",
    "inception_footsteps.load_state_dict(state_dict)\n",
    "inception_footsteps = inception_footsteps.to(device)\n",
    "\n",
    "mel = MelScale(sample_rate=transform_config['sample_rate'],\n",
    "                fft_size=transform_config['fft_size'],\n",
    "                n_mel=transform_config.get('n_mel', 256),\n",
    "                rm_dc=True)\n",
    "mel = mel.to(device)"
   ]
  },
  {
   "cell_type": "code",
   "execution_count": 5,
   "metadata": {},
   "outputs": [
    {
     "output_type": "stream",
     "name": "stdout",
     "text": [
      "batch:  0 IS:  5.515297653349979\n",
      "batch:  1 IS:  5.641838672578491\n",
      "batch:  2 IS:  5.657102397558225\n",
      "batch:  3 IS:  5.375245202624796\n",
      "batch:  4 IS:  5.288231550886117\n",
      "batch:  5 IS:  5.380001128490844\n",
      "batch:  6 IS:  5.469275808491983\n",
      "batch:  7 IS:  5.539409312991891\n",
      "batch:  8 IS:  5.527735638695315\n",
      "batch:  9 IS:  5.517051189876037\n",
      "batch:  10 IS:  5.525369024649866\n",
      "batch:  11 IS:  5.477996651795148\n",
      "batch:  12 IS:  5.5152416326795635\n",
      "batch:  13 IS:  5.538718729620946\n",
      "batch:  14 IS:  5.559932113906793\n",
      "batch:  15 IS:  5.555472121725741\n",
      "batch:  16 IS:  5.581526436990219\n",
      "batch:  17 IS:  5.581855660397229\n",
      "batch:  18 IS:  5.577216771134922\n",
      "batch:  19 IS:  5.585431449981089\n",
      "batch:  20 IS:  5.587121140888964\n",
      "batch:  21 IS:  5.599942120461706\n",
      "batch:  22 IS:  5.618792129252534\n",
      "batch:  23 IS:  5.612908137710384\n",
      "batch:  24 IS:  5.625282067890732\n",
      "batch:  25 IS:  5.622807505579048\n",
      "batch:  26 IS:  5.621855821702069\n",
      "batch:  27 IS:  5.630199150741367\n",
      "batch:  28 IS:  5.636570104364572\n",
      "batch:  29 IS:  5.649214619884689\n",
      "batch:  30 IS:  5.658931298411646\n",
      "batch:  31 IS:  5.66465727140826\n",
      "batch:  32 IS:  5.662362210485954\n",
      "batch:  33 IS:  5.662793308693565\n",
      "batch:  34 IS:  5.656145579658019\n",
      "batch:  35 IS:  5.6632443895219495\n"
     ]
    }
   ],
   "source": [
    "is_maker_real_samples = InceptionScore()\n",
    "inception_score_real_samples = []\n",
    "\n",
    "with torch.no_grad():\n",
    "    for batch_idx, data in enumerate(real_samples_data_loader):\n",
    "        input, labels = data\n",
    "        input.to(device)\n",
    "        input = mel(input.float())\n",
    "        mag_input = F.interpolate(input[:, 0:1], (299, 299))\n",
    "        \n",
    "        preds = inception_footsteps(mag_input.float())\n",
    "        \n",
    "        is_maker_real_samples.updateWithMiniBatch(preds)\n",
    "        inception_score_real_samples.append(is_maker_real_samples.getScore())\n",
    "        \n",
    "        print('batch: ', batch_idx, 'IS: ', is_maker_real_samples.getScore())"
   ]
  },
  {
   "cell_type": "code",
   "execution_count": 6,
   "metadata": {},
   "outputs": [],
   "source": [
    "IS_mean = np.mean(inception_score_real_samples)\n",
    "IS_std = np.std(inception_score_real_samples)\n",
    "output_file = f'{output_path}/IS_real_{str(n_real_samples)}_{model_name}_{datetime.now().strftime(\"%d-%m-%y_%H_%M\")}.txt'\n",
    "\n",
    "with open(output_file, 'w') as f:\n",
    "    f.write(str(IS_mean) + '\\n')\n",
    "    f.write(str(IS_std))\n",
    "    f.close()"
   ]
  },
  {
   "cell_type": "code",
   "execution_count": 7,
   "metadata": {},
   "outputs": [
    {
     "output_type": "stream",
     "name": "stdout",
     "text": [
      "Dataset ../_data/footsteps_generated_23-04-2021_15h/_processed/footsteps_stft/footsteps_stft.pt exists. Reloading...\n",
      "n_synth_samples:  600\n"
     ]
    }
   ],
   "source": [
    "synth_samples_loader_config = config['synth_samples_loader_config']\n",
    "synth_samples_loader = loader_module(name=dbname + '_' + transform, preprocessing=processor, **synth_samples_loader_config)\n",
    "\n",
    "n_synth_samples = len(synth_samples_loader)\n",
    "print('n_synth_samples: ', n_synth_samples)\n",
    "\n",
    "synth_samples_data_loader = DataLoader(synth_samples_loader,\n",
    "                                        batch_size=batch_size,\n",
    "                                        shuffle=True,\n",
    "                                        num_workers=2)"
   ]
  },
  {
   "cell_type": "code",
   "execution_count": 8,
   "metadata": {},
   "outputs": [
    {
     "output_type": "stream",
     "name": "stdout",
     "text": [
      "batch:  0 IS:  4.315168870031892\n",
      "batch:  1 IS:  4.694407361890251\n",
      "batch:  2 IS:  4.6436985220799\n",
      "batch:  3 IS:  4.689670049925526\n",
      "batch:  4 IS:  4.771269784044424\n",
      "batch:  5 IS:  4.815543565590214\n",
      "batch:  6 IS:  4.765092178648397\n",
      "batch:  7 IS:  4.796038717878455\n",
      "batch:  8 IS:  4.8390386806536245\n",
      "batch:  9 IS:  4.739858182600099\n",
      "batch:  10 IS:  4.734211219417201\n",
      "batch:  11 IS:  4.755173327229082\n",
      "batch:  12 IS:  4.739344396190907\n",
      "batch:  13 IS:  4.76350739057944\n",
      "batch:  14 IS:  4.756118606816763\n",
      "batch:  15 IS:  4.738045434727046\n",
      "batch:  16 IS:  4.753992754371582\n",
      "batch:  17 IS:  4.765947670416352\n",
      "batch:  18 IS:  4.7886794725697905\n",
      "batch:  19 IS:  4.8153030041814\n",
      "batch:  20 IS:  4.829124409185444\n",
      "batch:  21 IS:  4.8363358387180675\n",
      "batch:  22 IS:  4.803916798306491\n",
      "batch:  23 IS:  4.79672840772187\n",
      "batch:  24 IS:  4.786433839936384\n",
      "batch:  25 IS:  4.769429286304862\n",
      "batch:  26 IS:  4.772376556260819\n",
      "batch:  27 IS:  4.7522725003721495\n",
      "batch:  28 IS:  4.754220470030034\n",
      "batch:  29 IS:  4.7720719824991775\n"
     ]
    }
   ],
   "source": [
    "is_maker_synth_samples = InceptionScore()\n",
    "inception_score_synth_samples = []\n",
    "\n",
    "with torch.no_grad():\n",
    "    for batch_idx, data in enumerate(synth_samples_data_loader):\n",
    "        input, labels = data\n",
    "        input.to(device)\n",
    "        input = mel(input.float())\n",
    "        mag_input = F.interpolate(input[:, 0:1], (299, 299))\n",
    "        \n",
    "        preds = inception_footsteps(mag_input.float())\n",
    "        \n",
    "        is_maker_synth_samples.updateWithMiniBatch(preds)\n",
    "        inception_score_synth_samples.append(is_maker_synth_samples.getScore())\n",
    "        \n",
    "        print('batch: ', batch_idx, 'IS: ', is_maker_synth_samples.getScore())"
   ]
  },
  {
   "cell_type": "code",
   "execution_count": 9,
   "metadata": {},
   "outputs": [],
   "source": [
    "IS_mean = np.mean(inception_score_synth_samples)\n",
    "IS_std = np.std(inception_score_synth_samples)\n",
    "output_file = f'{output_path}/IS_synth_{str(n_synth_samples)}_{model_name}_{datetime.now().strftime(\"%d-%m-%y_%H_%M\")}.txt'\n",
    "\n",
    "with open(output_file, 'w') as f:\n",
    "    f.write(str(IS_mean) + '\\n')\n",
    "    f.write(str(IS_std))\n",
    "    f.close()"
   ]
  },
  {
   "cell_type": "code",
   "execution_count": null,
   "metadata": {},
   "outputs": [],
   "source": []
  }
 ]
}